{
  "nbformat": 4,
  "nbformat_minor": 0,
  "metadata": {
    "colab": {
      "provenance": [],
      "authorship_tag": "ABX9TyPIcYF5ZbSm8yx721WN2DS9",
      "include_colab_link": true
    },
    "kernelspec": {
      "name": "python3",
      "display_name": "Python 3"
    },
    "language_info": {
      "name": "python"
    }
  },
  "cells": [
    {
      "cell_type": "markdown",
      "metadata": {
        "id": "view-in-github",
        "colab_type": "text"
      },
      "source": [
        "<a href=\"https://colab.research.google.com/github/vargas-luis/python_collab/blob/main/02_28.ipynb\" target=\"_parent\"><img src=\"https://colab.research.google.com/assets/colab-badge.svg\" alt=\"Open In Colab\"/></a>"
      ]
    },
    {
      "cell_type": "code",
      "execution_count": null,
      "metadata": {
        "colab": {
          "base_uri": "https://localhost:8080/"
        },
        "id": "r2fxj0AF1Yii",
        "outputId": "95d9743f-1c1e-4684-d884-f0f8642ce68a"
      },
      "outputs": [
        {
          "output_type": "stream",
          "name": "stdout",
          "text": [
            "la suma de 3.4 y 2.2 es 5.6\n"
          ]
        }
      ],
      "source": [
        "num1= 3.4\n",
        "num2 =2.2\n",
        "sum=num1+num2\n",
        "\n",
        "print(\"la suma de {0} y {1} es {2}\".format(num1, num2, sum))\n"
      ]
    },
    {
      "cell_type": "code",
      "source": [
        "for i in range (1,10):\n",
        "  print(i);\n",
        "  if i == 6:\n",
        "    break;\n",
        "\n"
      ],
      "metadata": {
        "colab": {
          "base_uri": "https://localhost:8080/"
        },
        "id": "6wAe9lAa9kIN",
        "outputId": "5b23b2c1-95a8-474e-aa50-f8a83235aa76"
      },
      "execution_count": null,
      "outputs": [
        {
          "output_type": "stream",
          "name": "stdout",
          "text": [
            "1\n",
            "2\n",
            "3\n",
            "4\n",
            "5\n",
            "6\n"
          ]
        }
      ]
    },
    {
      "cell_type": "code",
      "source": [
        "num1, num2, name = 3.4, 2.3, \"JUNA\"\n",
        "print(num1)\n",
        "print(num2)\n",
        "print(name)"
      ],
      "metadata": {
        "colab": {
          "base_uri": "https://localhost:8080/"
        },
        "id": "lbeXuVSy8BEr",
        "outputId": "bb6aba2b-56db-43e3-d3bb-ba0a3215a6a1"
      },
      "execution_count": null,
      "outputs": [
        {
          "output_type": "stream",
          "name": "stdout",
          "text": [
            "3.4\n",
            "2.3\n",
            "JUNA\n"
          ]
        }
      ]
    },
    {
      "cell_type": "code",
      "source": [
        "string = '''Multiple\n",
        "line\n",
        "string''';\n",
        "print(string);\n"
      ],
      "metadata": {
        "colab": {
          "base_uri": "https://localhost:8080/"
        },
        "id": "P_JGAf0PItg1",
        "outputId": "73885e60-b219-404d-aff5-cfc98ec9076d"
      },
      "execution_count": 1,
      "outputs": [
        {
          "output_type": "stream",
          "name": "stdout",
          "text": [
            "Multiple\n",
            "line\n",
            "string\n"
          ]
        }
      ]
    }
  ]
}